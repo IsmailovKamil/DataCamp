{
 "cells": [
  {
   "cell_type": "markdown",
   "metadata": {},
   "source": [
    "# 1. Introduction to Market Basket Analysis\n",
    "## The basics of market basket analysis\n",
    "Market basket analysis uses lists of transactions to identify useful associations between items. Such associations can be written in the form of a rule that has an antecedent and a consequent. Let's assume a small grocery store has asked you to look at their transaction data. After some analysis, you find the rule given below:\n",
    "\n",
    "                                        {cereal} -> {milk}\n",
    "__{cereal}__ is the antecedent, __{milk}__ is the consequent, and both are items.\n",
    "\n",
    "## Cross-selling products\n",
    "The small grocery store has decided to cross-sell chewing gum with either coffee, cereal, or bread. To determine which of the three items is best to use, the store owner has performed an experiment. For one week, she sold chewing gum next to the register and recorded all transactions where it was purchased with either coffee, cereal, or bread."
   ]
  },
  {
   "cell_type": "code",
   "execution_count": 1,
   "metadata": {},
   "outputs": [],
   "source": [
    "# create transactions\n",
    "transactions = [['bread', 'gum'],\n",
    " ['bread', 'gum'],\n",
    " ['cereal', 'gum'],\n",
    " ['coffee', 'gum'],\n",
    " ['bread', 'gum'],\n",
    " ['coffee', 'gum'],\n",
    " ['coffee', 'gum'],\n",
    " ['coffee', 'gum'],\n",
    " ['cereal', 'gum'],\n",
    " ['coffee', 'gum'],\n",
    " ['coffee', 'gum'],\n",
    " ['cereal', 'gum'],\n",
    " ['coffee', 'gum'],\n",
    " ['cereal', 'gum'],\n",
    " ['coffee', 'gum'],\n",
    " ['coffee', 'gum'],\n",
    " ['cereal', 'gum'],\n",
    " ['coffee', 'gum'],\n",
    " ['bread', 'gum'],\n",
    " ['cereal', 'gum'],\n",
    " ['bread', 'gum'],\n",
    " ['bread', 'gum'],\n",
    " ['coffee', 'gum'],\n",
    " ['coffee', 'gum'],\n",
    " ['bread', 'gum'],\n",
    " ['bread', 'gum'],\n",
    " ['coffee', 'gum'],\n",
    " ['coffee', 'gum'],\n",
    " ['cereal', 'gum'],\n",
    " ['cereal', 'gum'],\n",
    " ['coffee', 'gum'],\n",
    " ['coffee', 'gum'],\n",
    " ['coffee', 'gum'],\n",
    " ['cereal', 'gum'],\n",
    " ['bread', 'gum'],\n",
    " ['coffee', 'gum'],\n",
    " ['bread', 'gum'],\n",
    " ['coffee', 'gum'],\n",
    " ['cereal', 'gum'],\n",
    " ['bread', 'gum'],\n",
    " ['cereal', 'gum'],\n",
    " ['cereal', 'gum'],\n",
    " ['coffee', 'gum'],\n",
    " ['coffee', 'gum'],\n",
    " ['cereal', 'gum'],\n",
    " ['coffee', 'gum'],\n",
    " ['cereal', 'gum'],\n",
    " ['coffee', 'gum'],\n",
    " ['coffee', 'gum'],\n",
    " ['bread', 'gum'],\n",
    " ['cereal', 'gum'],\n",
    " ['bread', 'gum'],\n",
    " ['coffee', 'gum'],\n",
    " ['cereal', 'gum'],\n",
    " ['coffee', 'gum'],\n",
    " ['cereal', 'gum'],\n",
    " ['cereal', 'gum'],\n",
    " ['bread', 'gum'],\n",
    " ['bread', 'gum'],\n",
    " ['coffee', 'gum'],\n",
    " ['coffee', 'gum'],\n",
    " ['coffee', 'gum'],\n",
    " ['bread', 'gum'],\n",
    " ['cereal', 'gum'],\n",
    " ['cereal', 'gum'],\n",
    " ['coffee', 'gum'],\n",
    " ['bread', 'gum'],\n",
    " ['coffee', 'gum'],\n",
    " ['coffee', 'gum'],\n",
    " ['cereal', 'gum'],\n",
    " ['cereal', 'gum'],\n",
    " ['coffee', 'gum'],\n",
    " ['bread', 'gum'],\n",
    " ['coffee', 'gum'],\n",
    " ['cereal', 'gum'],\n",
    " ['coffee', 'gum'],\n",
    " ['cereal', 'gum'],\n",
    " ['cereal', 'gum'],\n",
    " ['coffee', 'gum'],\n",
    " ['coffee', 'gum'],\n",
    " ['bread', 'gum'],\n",
    " ['coffee', 'gum'],\n",
    " ['bread', 'gum'],\n",
    " ['coffee', 'gum'],\n",
    " ['coffee', 'gum']]"
   ]
  },
  {
   "cell_type": "code",
   "execution_count": 2,
   "metadata": {},
   "outputs": [
    {
     "name": "stdout",
     "output_type": "stream",
     "text": [
      "coffee: 40\n",
      "cereal: 25\n",
      "bread: 20\n"
     ]
    }
   ],
   "source": [
    "# Count the number of transactions with coffee and gum\n",
    "coffee = transactions.count(['coffee', 'gum'])\n",
    "\n",
    "# Count the number of transactions with cereal and gum\n",
    "cereal = transactions.count(['cereal', 'gum'])\n",
    "\n",
    "# Count the number of transactions with bread and gum\n",
    "bread = transactions.count(['bread', 'gum'])\n",
    "\n",
    "# Print the counts for each transaction.\n",
    "print('coffee:', coffee)\n",
    "print('cereal:', cereal)\n",
    "print('bread:', bread)"
   ]
  },
  {
   "cell_type": "markdown",
   "metadata": {},
   "source": [
    "## Multiple antecedents and consequents\n",
    "Market basket analysis revolves around the use of association rules, which are if-then statements about the relationship between two sets of items. The rule __{coffee} -> {milk}__, for instance, is read as \"if coffee then milk,\" where coffee is the _antecedent_ and milk is the _consequent_. Many rules have multiple antecedents and consequents.\n",
    "\n",
    "## Preparing data for market basket analysis\n",
    "Throughout this course, you will typically encounter data in one of two formats: a <code>pandas</code> DataFrame or a list of lists. DataFrame objects will be constructed by importing a csv file using <code>pandas</code>. They will consist of a single column of data, where each element contains a string of items in a transaction, separated by a comma, as in the table below.\n",
    "\n",
    "In this exercise, you will practice loading the data from a csv file and will prepare it for use as a list of lists. "
   ]
  },
  {
   "cell_type": "code",
   "execution_count": 9,
   "metadata": {},
   "outputs": [
    {
     "data": {
      "text/html": [
       "<div>\n",
       "<style scoped>\n",
       "    .dataframe tbody tr th:only-of-type {\n",
       "        vertical-align: middle;\n",
       "    }\n",
       "\n",
       "    .dataframe tbody tr th {\n",
       "        vertical-align: top;\n",
       "    }\n",
       "\n",
       "    .dataframe thead th {\n",
       "        text-align: right;\n",
       "    }\n",
       "</style>\n",
       "<table border=\"1\" class=\"dataframe\">\n",
       "  <thead>\n",
       "    <tr style=\"text-align: right;\">\n",
       "      <th></th>\n",
       "      <th>Transaction</th>\n",
       "    </tr>\n",
       "  </thead>\n",
       "  <tbody>\n",
       "    <tr>\n",
       "      <th>0</th>\n",
       "      <td>milk,bread,biscuit</td>\n",
       "    </tr>\n",
       "    <tr>\n",
       "      <th>1</th>\n",
       "      <td>bread,milk,biscuit,cereal</td>\n",
       "    </tr>\n",
       "    <tr>\n",
       "      <th>2</th>\n",
       "      <td>bread,tea</td>\n",
       "    </tr>\n",
       "    <tr>\n",
       "      <th>3</th>\n",
       "      <td>jam,bread,milk</td>\n",
       "    </tr>\n",
       "    <tr>\n",
       "      <th>4</th>\n",
       "      <td>tea,biscuit</td>\n",
       "    </tr>\n",
       "  </tbody>\n",
       "</table>\n",
       "</div>"
      ],
      "text/plain": [
       "                 Transaction\n",
       "0         milk,bread,biscuit\n",
       "1  bread,milk,biscuit,cereal\n",
       "2                  bread,tea\n",
       "3             jam,bread,milk\n",
       "4                tea,biscuit"
      ]
     },
     "execution_count": 9,
     "metadata": {},
     "output_type": "execute_result"
    }
   ],
   "source": [
    "# Import pandas under the alias pd\n",
    "import pandas as pd\n",
    "\n",
    "# Load transactions from pandas\n",
    "groceries = pd.read_csv('https://assets.datacamp.com/production/repositories/5654/datasets/5992818fd324b0de7d48311ee43fa038f7614ee5/small_grocery_store.csv')\n",
    "\n",
    "groceries.head()"
   ]
  },
  {
   "cell_type": "code",
   "execution_count": 7,
   "metadata": {},
   "outputs": [
    {
     "name": "stdout",
     "output_type": "stream",
     "text": [
      "[['milk', 'bread', 'biscuit'], ['bread', 'milk', 'biscuit', 'cereal'], ['bread', 'tea'], ['jam', 'bread', 'milk'], ['tea', 'biscuit'], ['bread', 'tea'], ['tea', 'cereal'], ['bread', 'tea', 'biscuit'], ['jam', 'bread', 'tea'], ['bread', 'milk'], ['coffee', 'orange', 'biscuit', 'cereal'], ['coffee', 'orange', 'biscuit', 'cereal'], ['coffee', 'sugar'], ['bread', 'coffee', 'orange'], ['bread', 'sugar', 'biscuit'], ['coffee', 'sugar', 'cereal'], ['bread', 'sugar', 'biscuit'], ['bread', 'coffee', 'sugar'], ['bread', 'coffee', 'sugar'], ['tea', 'milk', 'coffee', 'cereal']]\n"
     ]
    }
   ],
   "source": [
    "# Split transaction strings into lists\n",
    "transactions = groceries['Transaction'].apply(lambda t: t.split(','))\n",
    "\n",
    "# Convert DataFrame column into list of strings\n",
    "transactions = list(transactions)\n",
    "\n",
    "# Print the list of transactions\n",
    "print(transactions)"
   ]
  },
  {
   "cell_type": "markdown",
   "metadata": {},
   "source": [
    "## Generating association rules\n",
    "As you saw, the function <code>permutations</code> from the module <code>itertools</code> can be used to quickly generate the set of all one-antecedent, one-consequent rules. You do not, of course, know which of these rules are useful. You simply know that each is a valid way to combine two items."
   ]
  },
  {
   "cell_type": "code",
   "execution_count": 5,
   "metadata": {},
   "outputs": [
    {
     "name": "stdout",
     "output_type": "stream",
     "text": [
      "[('milk', 'sugar'), ('milk', 'bread'), ('milk', 'orange'), ('milk', 'cereal'), ('milk', 'biscuit'), ('milk', 'jam'), ('milk', 'tea'), ('milk', 'coffee'), ('sugar', 'milk'), ('sugar', 'bread'), ('sugar', 'orange'), ('sugar', 'cereal'), ('sugar', 'biscuit'), ('sugar', 'jam'), ('sugar', 'tea'), ('sugar', 'coffee'), ('bread', 'milk'), ('bread', 'sugar'), ('bread', 'orange'), ('bread', 'cereal'), ('bread', 'biscuit'), ('bread', 'jam'), ('bread', 'tea'), ('bread', 'coffee'), ('orange', 'milk'), ('orange', 'sugar'), ('orange', 'bread'), ('orange', 'cereal'), ('orange', 'biscuit'), ('orange', 'jam'), ('orange', 'tea'), ('orange', 'coffee'), ('cereal', 'milk'), ('cereal', 'sugar'), ('cereal', 'bread'), ('cereal', 'orange'), ('cereal', 'biscuit'), ('cereal', 'jam'), ('cereal', 'tea'), ('cereal', 'coffee'), ('biscuit', 'milk'), ('biscuit', 'sugar'), ('biscuit', 'bread'), ('biscuit', 'orange'), ('biscuit', 'cereal'), ('biscuit', 'jam'), ('biscuit', 'tea'), ('biscuit', 'coffee'), ('jam', 'milk'), ('jam', 'sugar'), ('jam', 'bread'), ('jam', 'orange'), ('jam', 'cereal'), ('jam', 'biscuit'), ('jam', 'tea'), ('jam', 'coffee'), ('tea', 'milk'), ('tea', 'sugar'), ('tea', 'bread'), ('tea', 'orange'), ('tea', 'cereal'), ('tea', 'biscuit'), ('tea', 'jam'), ('tea', 'coffee'), ('coffee', 'milk'), ('coffee', 'sugar'), ('coffee', 'bread'), ('coffee', 'orange'), ('coffee', 'cereal'), ('coffee', 'biscuit'), ('coffee', 'jam'), ('coffee', 'tea')]\n"
     ]
    }
   ],
   "source": [
    "# Import permutations from the itertools module\n",
    "from itertools import permutations\n",
    "\n",
    "# Define the set of groceries\n",
    "flattened = [i for t in transactions for i in t]\n",
    "groceries = list(set(flattened))\n",
    "\n",
    "# Generate all possible rules\n",
    "rules = list(permutations(groceries, 2))\n",
    "\n",
    "# Print the set of rules\n",
    "print(rules)"
   ]
  },
  {
   "cell_type": "code",
   "execution_count": 6,
   "metadata": {},
   "outputs": [
    {
     "name": "stdout",
     "output_type": "stream",
     "text": [
      "72\n"
     ]
    }
   ],
   "source": [
    "# Print the number of rules\n",
    "print(len(rules))"
   ]
  },
  {
   "cell_type": "markdown",
   "metadata": {},
   "source": [
    "## One-hot encoding transaction data\n",
    "Throughout the course, we will use a common pipeline for preprocessing data for use in market basket analysis. The first step is to import a <code>pandas</code> DataFrame and select the column that contains transactions. Each transaction in the column will be a string that consists of a number of items, each separated by a comma. The next step is to use a lambda function to split each transaction string into a list, thereby transforming the column into a list of lists."
   ]
  },
  {
   "cell_type": "code",
   "execution_count": 5,
   "metadata": {},
   "outputs": [
    {
     "name": "stdout",
     "output_type": "stream",
     "text": [
      "    biscuit  bread  cereal  coffee    jam   milk  orange  sugar    tea\n",
      "0      True   True   False   False  False   True   False  False  False\n",
      "1      True   True    True   False  False   True   False  False  False\n",
      "2     False   True   False   False  False  False   False  False   True\n",
      "3     False   True   False   False   True   True   False  False  False\n",
      "4      True  False   False   False  False  False   False  False   True\n",
      "5     False   True   False   False  False  False   False  False   True\n",
      "6     False  False    True   False  False  False   False  False   True\n",
      "7      True   True   False   False  False  False   False  False   True\n",
      "8     False   True   False   False   True  False   False  False   True\n",
      "9     False   True   False   False  False   True   False  False  False\n",
      "10     True  False    True    True  False  False    True  False  False\n",
      "11     True  False    True    True  False  False    True  False  False\n",
      "12    False  False   False    True  False  False   False   True  False\n",
      "13    False   True   False    True  False  False    True  False  False\n",
      "14     True   True   False   False  False  False   False   True  False\n",
      "15    False  False    True    True  False  False   False   True  False\n",
      "16     True   True   False   False  False  False   False   True  False\n",
      "17    False   True   False    True  False  False   False   True  False\n",
      "18    False   True   False    True  False  False   False   True  False\n",
      "19    False  False    True    True  False   True   False  False   True\n"
     ]
    }
   ],
   "source": [
    "# Import the transaction encoder function from mlxtend\n",
    "from mlxtend.preprocessing import TransactionEncoder\n",
    "\n",
    "# Instantiate transaction encoder and identify unique items\n",
    "encoder = TransactionEncoder().fit(transactions)\n",
    "\n",
    "# One-hot encode transactions\n",
    "onehot = encoder.transform(transactions)\n",
    "\n",
    "# Convert one-hot encoded data to DataFrame\n",
    "onehot = pd.DataFrame(onehot, columns = encoder.columns_)\n",
    "\n",
    "# Print the one-hot encoded transaction dataset\n",
    "print(onehot)"
   ]
  },
  {
   "cell_type": "markdown",
   "metadata": {},
   "source": [
    "## Computing the support metric\n",
    "In the previous exercise, you one-hot encoded a small grocery store's transactions as the DataFrame <code>onehot</code>. In this exercise, you'll make use of that DataFrame and the <code>support</code> metric to help the store's owner. First, she has asked you to identify frequently purchased items, which you'll do by computing support at the item-level. And second, she asked you to check whether the rule {jam} -> {bread} has a support of over 0.05.\n",
    "<center>\n",
    "$Support = \\Large\\frac{number\\,of\\,transactions\\,with\\,item(s)}{total\\,number\\,of\\,transactions}$"
   ]
  },
  {
   "cell_type": "code",
   "execution_count": 8,
   "metadata": {},
   "outputs": [
    {
     "name": "stdout",
     "output_type": "stream",
     "text": [
      "biscuit    0.40\n",
      "bread      0.65\n",
      "cereal     0.30\n",
      "coffee     0.40\n",
      "jam        0.10\n",
      "milk       0.25\n",
      "orange     0.15\n",
      "sugar      0.30\n",
      "tea        0.35\n",
      "dtype: float64\n"
     ]
    }
   ],
   "source": [
    "# Compute the support\n",
    "support = onehot.mean()\n",
    "\n",
    "# Print the support\n",
    "print(support)"
   ]
  },
  {
   "cell_type": "code",
   "execution_count": 9,
   "metadata": {},
   "outputs": [
    {
     "name": "stdout",
     "output_type": "stream",
     "text": [
      "biscuit      0.40\n",
      "bread        0.65\n",
      "cereal       0.30\n",
      "coffee       0.40\n",
      "jam          0.10\n",
      "milk         0.25\n",
      "orange       0.15\n",
      "sugar        0.30\n",
      "tea          0.35\n",
      "jam+bread    0.10\n",
      "dtype: float64\n"
     ]
    }
   ],
   "source": [
    "# import Numpy package\n",
    "import numpy as np\n",
    "\n",
    "# Add a jam+bread column to the DataFrame onehot\n",
    "onehot['jam+bread'] = np.logical_and(onehot['jam'], onehot[\"bread\"])\n",
    "\n",
    "# Compute the support\n",
    "support = onehot.mean()\n",
    "\n",
    "# Print the support values\n",
    "print(support)"
   ]
  },
  {
   "cell_type": "code",
   "execution_count": null,
   "metadata": {},
   "outputs": [],
   "source": []
  }
 ],
 "metadata": {
  "kernelspec": {
   "display_name": "Python 3",
   "language": "python",
   "name": "python3"
  },
  "language_info": {
   "codemirror_mode": {
    "name": "ipython",
    "version": 3
   },
   "file_extension": ".py",
   "mimetype": "text/x-python",
   "name": "python",
   "nbconvert_exporter": "python",
   "pygments_lexer": "ipython3",
   "version": "3.8.5"
  }
 },
 "nbformat": 4,
 "nbformat_minor": 4
}
