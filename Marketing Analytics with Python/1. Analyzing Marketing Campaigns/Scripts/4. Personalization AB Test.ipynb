{
 "cells": [
  {
   "cell_type": "markdown",
   "metadata": {},
   "source": [
    "# 4. Personalization A/B Test\n",
    "## Test allocation\n",
    "The email portion of this campaign was actually run as an A/B test. Half the emails sent out were generic upsells to your product while the other half contained personalized messaging around the users’ usage of the site."
   ]
  },
  {
   "cell_type": "code",
   "execution_count": 1,
   "metadata": {},
   "outputs": [],
   "source": [
    "# Import pandas into the environment\n",
    "import pandas as pd \n",
    "\n",
    "# Import marketing.csv with date columns\n",
    "marketing = pd.read_csv(\"..//Datasets/marketing.csv\",\n",
    "parse_dates = [\"date_served\", \"date_subscribed\", \"date_canceled\"])"
   ]
  },
  {
   "cell_type": "code",
   "execution_count": 2,
   "metadata": {},
   "outputs": [
    {
     "data": {
      "image/png": "[encoded data removed]",
      "text/plain": [
       "<Figure size 432x288 with 1 Axes>"
      ]
     },
     "metadata": {
      "needs_background": "light"
     },
     "output_type": "display_data"
    }
   ],
   "source": [
    "# Import matplotlib\n",
    "import matplotlib.pyplot as plt\n",
    "\n",
    "# Subset the DataFrame\n",
    "email = marketing[marketing[\"marketing_channel\"] == \"Email\"]\n",
    "\n",
    "# Group the email DataFrame by variant \n",
    "alloc = email.groupby(\"variant\")[\"user_id\"].nunique()\n",
    "\n",
    "# Plot a bar chart of the test allocation\n",
    "alloc.plot(kind =\"bar\")\n",
    "plt.title('Personalization test allocation')\n",
    "plt.ylabel('# participants')\n",
    "plt.show()"
   ]
  },
  {
   "cell_type": "markdown",
   "metadata": {},
   "source": [
    "## Comparing conversion rates\n",
    "Now that we know allocation is relatively even let's look at the conversion rate for the control and personalization. Since we chose conversion rate as our key metrics for this test, it is highly important that we evaluate whether or not conversion was higher in the personalization treatment compared with the control. While we will dive in deeper in subsequent exercises, measuring the difference between the key metric in the control and the treatment is the most important part of evaluating the success of an A/B test."
   ]
  },
  {
   "cell_type": "code",
   "execution_count": 3,
   "metadata": {},
   "outputs": [
    {
     "name": "stdout",
     "output_type": "stream",
     "text": [
      "Control conversion rate: 0.28\n",
      "Personalization conversion rate: 0.39\n"
     ]
    }
   ],
   "source": [
    "# Import numpy\n",
    "import numpy as np\n",
    "\n",
    "# Group marketing by user_id and variant\n",
    "subscribers = email.groupby(['user_id', \n",
    "                             \"variant\"])[\"converted\"].max()\n",
    "subscribers_df = pd.DataFrame(subscribers.unstack(level=1)) \n",
    "\n",
    "# Drop missing values from the control column\n",
    "control = subscribers_df[\"control\"].dropna()\n",
    "\n",
    "# Drop missing values from the personalization column\n",
    "personalization = subscribers_df[\"personalization\"].dropna()\n",
    "\n",
    "print('Control conversion rate:', np.mean(control).round(2))\n",
    "print('Personalization conversion rate:', np.mean(personalization).round(2))"
   ]
  },
  {
   "cell_type": "markdown",
   "metadata": {},
   "source": [
    "## Creating a lift function\n",
    "Lift can be calculated by calculating the difference between the treatment effect (or the mean) of the treatment compared to the treatment effect of the control divided by the treatment effect of the control. The formula for lift can be found below:\n",
    "\n",
    "<center>\n",
    "$\\Large\\frac{\\text{Treatment conversion rate - Control conversion rate}}{\\text{Control conversion rate}}$\n",
    "</center>\n",
    "\n",
    "The result is the percent difference between the control and treatment.\n",
    "\n",
    "In this exercise, you will create a function to automate the process of calculating lift. Many marketing teams run tests constantly. The more that you can automate the parts of the process that occur within every test, the more time you will have to do more interesting analyses."
   ]
  },
  {
   "cell_type": "code",
   "execution_count": 4,
   "metadata": {},
   "outputs": [
    {
     "name": "stdout",
     "output_type": "stream",
     "text": [
      "38.85%\n"
     ]
    }
   ],
   "source": [
    "def lift(a,b):\n",
    "    # Calcuate the mean of a and b\n",
    "    a_mean = np.mean(a)\n",
    "    b_mean = np.mean(b)\n",
    "    \n",
    "    # Calculate the lift using a_mean and b_mean\n",
    "    lift = (b_mean - a_mean) / a_mean\n",
    "  \n",
    "    return str(round(lift*100, 2)) + '%'\n",
    "  \n",
    "# Print lift() with control and personalization as inputs\n",
    "print(lift(control, personalization))"
   ]
  },
  {
   "cell_type": "markdown",
   "metadata": {},
   "source": [
    "## Building an A/B test segmenting function\n",
    "In the previous lesson, you observed that your personalization experiment is highly statistically significant. However, when running experiments, it is important to check how new features are affecting specific demographics. Sometimes features that are highly appealing to one group are less appealing to others.\n",
    "\n",
    "Since you want to segment our data multiple times, you will build a function <code>ab_segmentation()</code> that analyzes the impact of your A/B tests on segments of data that you can reuse each time you want to conduct this kind of analysis.\n",
    "\n",
    "Your function will take in a column name and run through each unique value in that column calculating lift and statistical significance."
   ]
  },
  {
   "cell_type": "code",
   "execution_count": 5,
   "metadata": {},
   "outputs": [],
   "source": [
    "def ab_segmentation(segment):\n",
    "  from scipy import stats\n",
    "  # Build a for loop for each subsegment in marketing\n",
    "  for subsegment in np.unique(marketing[segment].values):\n",
    "      print(subsegment)\n",
    "\n",
    "      # Limit marketing to email and subsegment\n",
    "      email = marketing[(marketing['marketing_channel'] == \"Email\") & (marketing[segment] == subsegment)]\n",
    "\n",
    "      subscribers = email.groupby(['user_id', 'variant'])['converted'].max()\n",
    "      subscribers = pd.DataFrame(subscribers.unstack(level=1)) \n",
    "      control = subscribers['control'].dropna()\n",
    "      personalization = subscribers['personalization'].dropna()\n",
    "\n",
    "      print('lift:', lift(control, personalization)) \n",
    "      print('t-statistic:', stats.ttest_ind(control, personalization), '\\n\\n')"
   ]
  },
  {
   "cell_type": "markdown",
   "metadata": {},
   "source": [
    "## Using your segmentation function\n",
    "Now that you've generated an <code>ab_segmentation()</code> function, it's time to test it out.\n",
    "\n",
    "Often a treatment will not affect all people uniformly. Some people will love a particular marketing campaign while others hate it. As a marketing data scientist, it's your responsibility to enable your marketing stakeholders to target users according to their preferences.\n",
    "\n",
    "We will run through two segments in our data that may be relevant to assessing the impact of our test."
   ]
  },
  {
   "cell_type": "code",
   "execution_count": 6,
   "metadata": {},
   "outputs": [
    {
     "name": "stdout",
     "output_type": "stream",
     "text": [
      "Arabic\n",
      "lift: 50.0%\n",
      "t-statistic: Ttest_indResult(statistic=-0.5773502691896255, pvalue=0.5795840000000001) \n",
      "\n",
      "\n",
      "English\n",
      "lift: 39.0%\n",
      "t-statistic: Ttest_indResult(statistic=-2.2183598646203166, pvalue=0.026991701290720815) \n",
      "\n",
      "\n",
      "German\n",
      "lift: -1.62%\n",
      "t-statistic: Ttest_indResult(statistic=0.1910083418078718, pvalue=0.8494394170062678) \n",
      "\n",
      "\n",
      "Spanish\n",
      "lift: 166.67%\n",
      "t-statistic: Ttest_indResult(statistic=-2.3570226039551585, pvalue=0.040156718110477524) \n",
      "\n",
      "\n"
     ]
    }
   ],
   "source": [
    "# Use ab_segmentation on language displayed\n",
    "ab_segmentation('language_displayed')"
   ]
  },
  {
   "cell_type": "code",
   "execution_count": 7,
   "metadata": {},
   "outputs": [
    {
     "name": "stdout",
     "output_type": "stream",
     "text": [
      "0-18 years\n",
      "lift: 121.4%\n",
      "t-statistic: Ttest_indResult(statistic=-2.966044912142211, pvalue=0.0038724494391297226) \n",
      "\n",
      "\n",
      "19-24 years\n",
      "lift: 106.24%\n",
      "t-statistic: Ttest_indResult(statistic=-3.03179438478667, pvalue=0.0030623836114689134) \n",
      "\n",
      "\n",
      "24-30 years\n",
      "lift: 161.19%\n",
      "t-statistic: Ttest_indResult(statistic=-3.861539544326876, pvalue=0.00018743381094867337) \n",
      "\n",
      "\n",
      "30-36 years\n",
      "lift: -100.0%\n",
      "t-statistic: Ttest_indResult(statistic=3.1859064644147996, pvalue=0.0023238487431765137) \n",
      "\n",
      "\n",
      "36-45 years\n",
      "lift: -85.23%\n",
      "t-statistic: Ttest_indResult(statistic=2.4317901279318503, pvalue=0.01797568600978829) \n",
      "\n",
      "\n",
      "45-55 years\n",
      "lift: -72.22%\n",
      "t-statistic: Ttest_indResult(statistic=2.065499127317933, pvalue=0.043062339688201196) \n",
      "\n",
      "\n",
      "55+ years\n",
      "lift: -100.0%\n",
      "t-statistic: Ttest_indResult(statistic=3.3265654564203397, pvalue=0.0016358623456360435) \n",
      "\n",
      "\n"
     ]
    }
   ],
   "source": [
    "# Use ab_segmentation on age group\n",
    "ab_segmentation(\"age_group\")"
   ]
  },
  {
   "cell_type": "code",
   "execution_count": null,
   "metadata": {},
   "outputs": [],
   "source": []
  }
 ],
 "metadata": {
  "kernelspec": {
   "display_name": "Python 3",
   "language": "python",
   "name": "python3"
  },
  "language_info": {
   "codemirror_mode": {
    "name": "ipython",
    "version": 3
   },
   "file_extension": ".py",
   "mimetype": "text/x-python",
   "name": "python",
   "nbconvert_exporter": "python",
   "pygments_lexer": "ipython3",
   "version": "3.8.5"
  }
 },
 "nbformat": 4,
 "nbformat_minor": 4
}
